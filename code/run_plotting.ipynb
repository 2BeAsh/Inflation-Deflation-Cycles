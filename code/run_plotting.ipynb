{
 "cells": [
  {
   "cell_type": "code",
   "execution_count": null,
   "metadata": {},
   "outputs": [],
   "source": [
    "# Imports\n",
    "import numpy as np\n",
    "import plotting_master as pm\n",
    "import run\n",
    "\n",
    "# Combs (N, warmup, time_steps, seed): \n",
    "    # N=1000, 2100, 250_000, 9090, m=0.1\n",
    "    # N=1000, 2100, 250_001, 9090, m=0.1  to avoid the gauss thingy\n",
    "    # N=1000, 2100, 250_000, 9090, m=1\n",
    "    # (N_W): 2100, 250_000, 9090, \n",
    "    # 3100, 500, 9090 (parameters plot)\n",
    "    # 4900, 300, 9090 (fig 2, wage capital density average profit...)\n",
    "    # 2100, 10_000, 9090 (tau N table)\n",
    "\n",
    "# Bankruptcy: negative_money, cannot_pay_salary\n",
    "# mutation: \"constant\", \"spread\", \"last_T\", \"minimum\", \"log\", \"mean\", \"worker_opinion\", \"0_to_mean\", \"normal\", \"positive_income\"\n",
    "\n",
    "update_methods = {\"worker_update\": \"limited\", \n",
    "                  \"bankruptcy\": \"negative_money\",\n",
    "                  \"mutation\": \"positive_income\", # \"positive_income\"\n",
    "                  \"transaction_method\": \"wage\",  # wage or salary, deterministic (all sells once)\n",
    "                  \"include_bankrupt_salary_in_mu\": True,\n",
    "                  \"who_want_to_increase\": \"w0\",  # picked, w0, all\n",
    "                  }\n",
    "\n",
    "warmup_steps = 4900\n",
    "standard_parameters = {\"number_of_companies\": 1000, \n",
    "                       \"number_of_workers\": 20 * 1000,\n",
    "                       \"prob_exponent\": 4,\n",
    "                       \"salary_increase\": 0.1,\n",
    "                       \"interest_rate_free\": 0.0,\n",
    "                       \"mutation_magnitude\": 0.1,\n",
    "                       \"salary_min\": 0.1 * 0.1,\n",
    "                       \"seed\": 9090,\n",
    "                       \"update_methods\": update_methods,\n",
    "                       \"inject_money_time\": 0,#[5050, 5060, 5075],\n",
    "                       \"number_of_transactions_per_step\": 1, \n",
    "                       \"time_steps\": 300 + warmup_steps,\n",
    "                       }\n",
    "\n",
    "def create_plotter_instance(kwargs):\n",
    "    create_data = run.RunWorkForce(**kwargs)\n",
    "    gname = create_data._get_group_name()\n",
    "    plotter = pm.PlotMaster(gname, skip_values=warmup_steps)\n",
    "    return create_data, plotter\n",
    "\n",
    "a2_parameters = standard_parameters.copy()\n",
    "a6_parameters = standard_parameters.copy()\n",
    "a8_parameters = standard_parameters.copy()\n",
    "ds005_parameters = standard_parameters.copy()\n",
    "ds001_parameters = standard_parameters.copy()\n",
    "\n",
    "a2_parameters[\"prob_exponent\"] = 2\n",
    "a6_parameters[\"prob_exponent\"] = 6\n",
    "a8_parameters[\"prob_exponent\"] = 8\n",
    "ds005_parameters[\"salary_increase\"] = 0.05\n",
    "ds001_parameters[\"salary_increase\"] = 0.01\n",
    "\n",
    "create_data_a2, plotter_a2 = create_plotter_instance(a2_parameters)\n",
    "create_data_a4, plotter_a4 = create_plotter_instance(standard_parameters)\n",
    "create_data_a6, plotter_a6 = create_plotter_instance(a6_parameters)\n",
    "create_data_a8, plotter_a8 = create_plotter_instance(a8_parameters)\n",
    "create_data_ds005, plotter_ds005 = create_plotter_instance(ds005_parameters)\n",
    "create_data_ds001, plotter_ds001 = create_plotter_instance(ds001_parameters)\n",
    "\n",
    "# Remove parameter text, and remove figure name from filename\n",
    "for plot_instance in [plotter_a2, plotter_a4, plotter_a6, plotter_a8, plotter_ds005, plotter_ds001]:\n",
    "    plot_instance.add_file_name_to_figure_name = False\n",
    "    plot_instance.add_parameter_text_to_plot = False\n",
    "    plot_instance.high_figure_quality = True"
   ]
  },
  {
   "cell_type": "code",
   "execution_count": null,
   "metadata": {},
   "outputs": [],
   "source": [
    "create_data_a4.store_data_in_group()     "
   ]
  },
  {
   "cell_type": "code",
   "execution_count": null,
   "metadata": {},
   "outputs": [],
   "source": [
    "plotter_a4.plot_capital()\n",
    "# plotter_a4.plot_salary()"
   ]
  },
  {
   "cell_type": "code",
   "execution_count": null,
   "metadata": {},
   "outputs": [],
   "source": [
    "create_data_a2.store_data_in_group()     \n",
    "create_data_a4.store_data_in_group()     \n",
    "create_data_a6.store_data_in_group()     \n",
    "create_data_a8.store_data_in_group()     "
   ]
  },
  {
   "cell_type": "code",
   "execution_count": null,
   "metadata": {},
   "outputs": [],
   "source": [
    "def save_parameter_values(tau_values=None, N_values=None, alpha_values=None):\n",
    "    if tau_values is None: tau_values = [1]\n",
    "    if N_values is None: N_values = [1000]\n",
    "    if alpha_values is None: alpha_values = [4]\n",
    "    \n",
    "    for tau in tau_values:\n",
    "        for N in N_values:\n",
    "            for alpha in alpha_values:\n",
    "                parameters = standard_parameters.copy()\n",
    "                parameters[\"number_of_transactions_per_step\"] = tau\n",
    "                parameters[\"number_of_companies\"] = N\n",
    "                parameters[\"prob_exponent\"] = alpha\n",
    "                data_instance = run.RunWorkForce(**parameters)\n",
    "                data_instance.store_data_in_group()\n",
    "            \n",
    "# save_parameter_values(alpha_values=[2, 4, 8], N_values=[100, 1000, 10000])"
   ]
  },
  {
   "cell_type": "code",
   "execution_count": null,
   "metadata": {},
   "outputs": [],
   "source": [
    "lower_pct_tau = 10\n",
    "upper_pct_tau = 95\n",
    "hard_lower_bound_tau = 0.04\n",
    "tau_N_table = plotter_a4.format_tau_table_latex(tau_values=[1, 2, 4, 100], N_values=[100, 1000, 10_000], alpha_values=[2, 4, 8], \n",
    "                                                lower_pct=lower_pct_tau, upper_pct=upper_pct_tau, hard_lower_bound=hard_lower_bound_tau)\n",
    "print(tau_N_table)"
   ]
  },
  {
   "cell_type": "code",
   "execution_count": null,
   "metadata": {},
   "outputs": [],
   "source": [
    "plotter_a4.plot_tau(time_values_to_show=800, tau_values=[1, 2, 4, 100], N=100, bandwidth=0.005, eval_points=250, kernel=\"gaussian\", s_lim=(0, 0.2),\n",
    "                    lower_pct=lower_pct_tau, upper_pct=upper_pct_tau, hard_lower_bound=hard_lower_bound_tau)"
   ]
  },
  {
   "cell_type": "code",
   "execution_count": null,
   "metadata": {},
   "outputs": [],
   "source": [
    "plotter_a4.plot_inject_money(inject_money_time=5050, bandwidth=0.007, s_lim=(0, 0.35), show_mean=True)"
   ]
  },
  {
   "cell_type": "code",
   "execution_count": null,
   "metadata": {},
   "outputs": [],
   "source": [
    "# Baseline (m=0.1, ds/s=0.1)\n",
    "recession_peak_hyperpar_a2 = {\"window_size\": 10, \"peak_distance\": 40, \"peak_width\":45, \"peak_height\":0.112, \"trough_height\":-0.105, \n",
    "                          \"peak_prominence\":0.008, \"trough_prominence\":0.008}\n",
    "recession_peak_hyperpar_a4 = {\"window_size\": 10, \"peak_distance\": 35, \"peak_width\":25, \"peak_height\":0.14, \"trough_height\":-0.135, \n",
    "                          \"peak_prominence\":0.02, \"trough_prominence\":0.01}\n",
    "recession_peak_hyperpar_a6 = {\"window_size\": 10, \"peak_distance\": 45, \"peak_width\":25, \"peak_height\":0.20, \"trough_height\":-0.185, \n",
    "                          \"peak_prominence\":0.025, \"trough_prominence\":0.025}\n",
    "recession_peak_hyperpar_a8 = {\"window_size\": 10, \"peak_distance\": 40, \"peak_width\":25, \"peak_height\":0.31, \"trough_height\":-0.3, \n",
    "                          \"peak_prominence\":0.04, \"trough_prominence\":0.04}\n",
    "\n",
    "# ds/s = 0.05\n",
    "recession_peak_hyperpar_a2_ds005 = {\"window_size\": 10, \"peak_distance\": 250, \"peak_width\":250, \"peak_height\":0.09, \"trough_height\":-0.85, \n",
    "                          \"peak_prominence\":0.018, \"trough_prominence\":0.015}\n",
    "recession_peak_hyperpar_a4_ds005 = {\"window_size\": 10, \"peak_distance\": 250, \"peak_width\":60, \"peak_height\":0.118, \"trough_height\":-0.11, \n",
    "                          \"peak_prominence\":0.01, \"trough_prominence\":0.01}\n",
    "recession_peak_hyperpar_a6_ds005 = {\"window_size\": 10, \"peak_distance\": 200, \"peak_width\":50, \"peak_height\":0.15, \"trough_height\":-0.14, \n",
    "                          \"peak_prominence\":0.03, \"trough_prominence\":0.03}\n",
    "recession_peak_hyperpar_a8_ds005 = {\"window_size\": 10, \"peak_distance\": 150, \"peak_width\":60, \"peak_height\":0.19, \"trough_height\":-0.155, \n",
    "                          \"peak_prominence\":0.04, \"trough_prominence\":0.03}\n",
    "\n",
    "# m = 1\n",
    "recession_peak_hyperpar_a2_m1 = {\"window_size\": 10, \"peak_distance\": 40, \"peak_width\":80, \"peak_height\":1.05, \"trough_height\":-1.05, \n",
    "                          \"peak_prominence\":0.2, \"trough_prominence\":0.1}\n",
    "recession_peak_hyperpar_a4_m1 = {\"window_size\": 10, \"peak_distance\": 50, \"peak_width\":50, \"peak_height\":1.45, \"trough_height\":-1.3, \n",
    "                          \"peak_prominence\":0.3, \"trough_prominence\":0.3}\n",
    "recession_peak_hyperpar_a6_m1 = {\"window_size\": 10, \"peak_distance\": 50, \"peak_width\":50, \"peak_height\":1.95, \"trough_height\":-1.8, \n",
    "                          \"peak_prominence\":0.45, \"trough_prominence\":0.45}\n",
    "recession_peak_hyperpar_a8_m1 = {\"window_size\": 10, \"peak_distance\": 50, \"peak_width\":50, \"peak_height\":3., \"trough_height\":-2.75, \n",
    "                          \"peak_prominence\":0.45, \"trough_prominence\":0.25}\n",
    "\n",
    "# m = 10\n",
    "recession_peak_hyperpar_a2_m10 = {\"window_size\": 10, \"peak_distance\": 40, \"peak_width\":50, \"peak_height\":10.5, \"trough_height\":-10.5, \n",
    "                          \"peak_prominence\": 1, \"trough_prominence\": 1}\n",
    "recession_peak_hyperpar_a4_m10 = {\"window_size\": 10, \"peak_distance\": 50, \"peak_width\":40, \"peak_height\":13.5, \"trough_height\":-13.5, \n",
    "                          \"peak_prominence\":2.5, \"trough_prominence\":2.5}\n",
    "recession_peak_hyperpar_a6_m10 = {\"window_size\": 10, \"peak_distance\": 50, \"peak_width\":40, \"peak_height\":20, \"trough_height\":-18, \n",
    "                          \"peak_prominence\":4, \"trough_prominence\":4}\n",
    "recession_peak_hyperpar_a8_m10 = {\"window_size\": 10, \"peak_distance\": 50, \"peak_width\":40, \"peak_height\":28., \"trough_height\":-26, \n",
    "                          \"peak_prominence\":4.5, \"trough_prominence\":2.5}"
   ]
  },
  {
   "cell_type": "code",
   "execution_count": null,
   "metadata": {},
   "outputs": [],
   "source": [
    "recession_peak_hyperpar_a2_m1 = {\"window_size\": 10, \"peak_distance\": 40, \"peak_width\":80, \"peak_height\":0.105, \"trough_height\":-0.15, \n",
    "                          \"peak_prominence\":0.2, \"trough_prominence\":0.1}\n",
    "recession_peak_hyperpar_a4_m1 = {\"window_size\": 10, \"peak_distance\": 50, \"peak_width\":50, \"peak_height\":1.45, \"trough_height\":-1.3, \n",
    "                          \"peak_prominence\":0.3, \"trough_prominence\":0.3}\n",
    "recession_peak_hyperpar_a6_m1 = {\"window_size\": 10, \"peak_distance\": 50, \"peak_width\":50, \"peak_height\":1.95, \"trough_height\":-1.8, \n",
    "                          \"peak_prominence\":0.45, \"trough_prominence\":0.45}\n",
    "recession_peak_hyperpar_a8_m1 = {\"window_size\": 10, \"peak_distance\": 50, \"peak_width\":50, \"peak_height\":3., \"trough_height\":-2.75, \n",
    "                          \"peak_prominence\":0.45, \"trough_prominence\":0.25}\n",
    "\n",
    "\n",
    "# plotter_a2._detect_recession_single_loop(plot=True, **recession_peak_hyperpar_a2_ds005)\n",
    "plotter_a4._detect_recession_single_loop(plot=True, **recession_peak_hyperpar_a4)\n",
    "# plotter_a6._detect_recession_single_loop(plot=True, **recession_peak_hyperpar_a6_m1)\n",
    "# plotter_a8._detect_recession_single_loop(plot=True, **recession_peak_hyperpar_a8_m1)\n"
   ]
  },
  {
   "cell_type": "code",
   "execution_count": null,
   "metadata": {},
   "outputs": [],
   "source": [
    "# plotter_a2._save_recession_results(recession_peak_hyperpar_a2)\n",
    "plotter_a4._save_recession_results(recession_peak_hyperpar_a4)\n",
    "# plotter_a6._save_recession_results(recession_peak_hyperpar_a6)\n",
    "# plotter_a8._save_recession_results(recession_peak_hyperpar_a8)\n",
    "\n",
    "# plotter_a2._save_recession_results(recession_peak_hyperpar_a2_m1)\n",
    "# plotter_a4._save_recession_results(recession_peak_hyperpar_a4_m1)\n",
    "# plotter_a6._save_recession_results(recession_peak_hyperpar_a6_m1)\n",
    "# plotter_a8._save_recession_results(recession_peak_hyperpar_a8_m1)\n",
    "\n",
    "\n",
    "# plotter_a2._save_recession_results(recession_peak_hyperpar_a2_m10)\n",
    "# plotter_a4._save_recession_results(recession_peak_hyperpar_a4_m10)\n",
    "# plotter_a6._save_recession_results(recession_peak_hyperpar_a6_m10)\n",
    "# plotter_a8._save_recession_results(recession_peak_hyperpar_a8_m10)"
   ]
  },
  {
   "cell_type": "markdown",
   "metadata": {},
   "source": [
    "## Figures that go in the main text"
   ]
  },
  {
   "cell_type": "code",
   "execution_count": null,
   "metadata": {},
   "outputs": [],
   "source": [
    "# plotter_a2.plot_economic_results(recession_parameters=recession_peak_hyperpar_a2,   # Recession time between and duration detection\n",
    "#                                  Nbins_asset_return_data=600,  # S&P 500 asset return\n",
    "#                                  bin_width_lifespan=1,  # Lifespan\n",
    "#                                  Nbins_NBER_time=15, Nbins_NBER_duration=12,  # NBER recession data\n",
    "#                                  ylim_size=(5e-9, 8e1),\n",
    "#                                  )\n",
    "\n",
    "plotter_a4.plot_economic_results(recession_parameters=recession_peak_hyperpar_a4,   # Recession time between and duration detection\n",
    "                                 Nbins_asset_return_data=600,  # S&P 500 asset return\n",
    "                                 bin_width_lifespan=1,  # Lifespan\n",
    "                                 Nbins_NBER_time=15, Nbins_NBER_duration=12,  # NBER recession data\n",
    "                                 ylim_size=(5e-9, 8e1),\n",
    "                                 inflation_change_type=\"percent\"\n",
    "                                 )\n",
    "\n",
    "# plotter_a6.plot_economic_results(recession_parameters=recession_peak_hyperpar_a6,   # Recession time between and duration detection\n",
    "#                                  Nbins_asset_return_data=600,  # S&P 500 asset return\n",
    "#                                  bin_width_lifespan=1,  # Lifespan\n",
    "#                                  Nbins_NBER_time=15, Nbins_NBER_duration=12,  # NBER recession data\n",
    "#                                  ylim_size=(5e-9, 8e1),\n",
    "#                                  )\n",
    "\n",
    "# plotter_a8.plot_economic_results(recession_parameters=recession_peak_hyperpar_a8,   # Recession time between and duration detection\n",
    "#                                  Nbins_asset_return_data=600,  # S&P 500 asset return\n",
    "#                                  bin_width_lifespan=1,  # Lifespan\n",
    "#                                  Nbins_NBER_time=15, Nbins_NBER_duration=12,  # NBER recession data\n",
    "#                                  ylim_size=(5e-9, 8e1),\n",
    "#                                  inflation_change_type=\"percent\",\n",
    "#                                  )"
   ]
  },
  {
   "cell_type": "markdown",
   "metadata": {},
   "source": [
    "### Density graphs"
   ]
  },
  {
   "cell_type": "markdown",
   "metadata": {},
   "source": [
    "### Store values"
   ]
  },
  {
   "cell_type": "code",
   "execution_count": null,
   "metadata": {},
   "outputs": [],
   "source": [
    "plotter_a4.plot_lifespan()"
   ]
  },
  {
   "cell_type": "code",
   "execution_count": null,
   "metadata": {},
   "outputs": [],
   "source": [
    "lifespan = plotter_a4._get_lifespan()\n",
    "half_time = np.median(lifespan)\n",
    "plotter_a4.plot_lifespan(bin_width=1)"
   ]
  },
  {
   "cell_type": "code",
   "execution_count": null,
   "metadata": {},
   "outputs": [],
   "source": [
    "# recession_peak_hyperpar_a2 = {\"window_size\": 10, \"peak_distance\": 15, \"peak_width\":30, \"peak_height\":0.106, \"trough_height\":-0.108, \n",
    "#                           \"peak_prominence\":0.005, \"trough_prominence\":0.005}\n",
    "\n",
    "# plotter_a2.plot_recession(Nbins=None, Nbins_NBER=14, plot_peaks=False,\n",
    "#                           **recession_peak_hyperpar_a2)"
   ]
  },
  {
   "cell_type": "code",
   "execution_count": null,
   "metadata": {},
   "outputs": [],
   "source": [
    "plotter_a4.KDE_and_diversity(bandwidth_s=0.007, s_lim=(0, 0.25), \n",
    "                          bandwidth_C=0.08, C_lim=(0., 5),\n",
    "                          eval_points=300, kernel=\"gaussian\", C_cmap=\"magma\", percentile_cut=99.5, show_mean=False)\n",
    "\n",
    "# plotter_a2.KDE_and_diversity(bandwidth_s=0.004, s_lim=(0.000, 0.18), bandwidth_C=0.1, C_lim=(0., 5), eval_points=400, kernel=\"epanechnikov\", C_logscale=True, C_cmap=\"plasma\")\n",
    "\n",
    "\n",
    "# plotter_a2.plot_running_KDE(bandwidth_s=0.004, bandwidth_d=0.15, s_lim=(0.000, 0.12), d_lim=(0.001, 6), eval_points=200, kernel=\"epanechnikov\", show_mean=True, plot_debt=False)\n",
    "# normale bandwidth: 0.0005, 0.15"
   ]
  },
  {
   "cell_type": "code",
   "execution_count": null,
   "metadata": {},
   "outputs": [],
   "source": [
    "percentile_cut = 100\n",
    "\n",
    "plotter_a2.plot_increased_decreased(window_size=10, bandwidth_s=0.03, s_lim=(0.5, 1.4), eval_points=200, percentile_cut=percentile_cut, kernel=\"gaussian\")\n",
    "plotter_a4.plot_increased_decreased(window_size=10, bandwidth_s=0.05, s_lim=(0.5, 2), eval_points=200, percentile_cut=percentile_cut, kernel=\"gaussian\")\n",
    "plotter_a6.plot_increased_decreased(window_size=10, bandwidth_s=0.08, s_lim=(0.5, 3.2), eval_points=200, percentile_cut=percentile_cut, kernel=\"gaussian\")\n",
    "plotter_a8.plot_increased_decreased(window_size=10, bandwidth_s=0.1, s_lim=(0.5, 4.2), eval_points=200, percentile_cut=percentile_cut, kernel=\"gaussian\")"
   ]
  },
  {
   "cell_type": "code",
   "execution_count": null,
   "metadata": {},
   "outputs": [],
   "source": [
    "plotter_a4.single_KDE(x_data=\"salary\", time_point=5000, eval_points=200, bandwidth=0.025, kernel=\"epanechnikov\")"
   ]
  },
  {
   "cell_type": "code",
   "execution_count": null,
   "metadata": {},
   "outputs": [],
   "source": [
    "# Compare picky to relaxed peak finding\n",
    "hyperpar_picky = {\"window_size\": 10, \"peak_distance\": 40, \"peak_width\":25, \"peak_height\":0.143, \"trough_height\":-0.14, \n",
    "                          \"peak_prominence\":0.04, \"trough_prominence\":0.01,}\n",
    "hyperpar_relaxed = {\"window_size\": 10, \"peak_distance\": 15, \"peak_width\":1, \"peak_height\":0.11, \"trough_height\":-0.14, \n",
    "                          \"peak_prominence\":0.01, \"trough_prominence\":0.01,}\n",
    "\n",
    "plotter_a4.plot_peak_hyperparameter_comparison(hyperpar_picky, hyperpar_relaxed, bins_picky=15, bins_relaxed=int(np.sqrt(788)), time_values_to_include=4000)"
   ]
  },
  {
   "cell_type": "markdown",
   "metadata": {},
   "source": [
    "### General behaviour"
   ]
  },
  {
   "cell_type": "code",
   "execution_count": null,
   "metadata": {},
   "outputs": [],
   "source": [
    "# Spread over Mean (SoM)\n",
    "SoM_a2, SoM_a2_time, SoM_data, SoM_time_data = plotter_a2.duration_spread_over_mean(recession_peak_hyperpar_a2)\n",
    "SoM_a4, SoM_a4_time, _, _ = plotter_a4.duration_spread_over_mean(recession_peak_hyperpar_a4)\n",
    "SoM_a6, SoM_a6_time, _, _ = plotter_a6.duration_spread_over_mean(recession_peak_hyperpar_a6)\n",
    "SoM_a8, SoM_a8_time, _, _ = plotter_a8.duration_spread_over_mean(recession_peak_hyperpar_a8)\n",
    "\n",
    "alpha_vals = [2, 4, 6, 8]\n",
    "SoM_list = [SoM_a2, SoM_a4, SoM_a6, SoM_a8]\n",
    "SoM_time_list = [SoM_a2_time, SoM_a4_time, SoM_a6_time, SoM_a8_time]\n",
    "\n",
    "print(\"DURATION\")\n",
    "print(f\"Spread over Mean data =\\t {SoM_data:.4f}\")\n",
    "for i, a in enumerate(alpha_vals):\n",
    "    print(f\"alpha = {a}, Spread over Mean =\\t {SoM_list[i]:.4f}\")\n",
    "print(\"\")\n",
    "print(\"TIME BETWEEN RECESSIONS\")\n",
    "print(f\"Spread over Mean data =\\t {SoM_time_data:.4f}\")\n",
    "for i, a in enumerate(alpha_vals):\n",
    "    print(f\"alpha = {a}, Spread over Mean =\\t {SoM_time_list[i]:.4f}\")\n",
    "    \n",
    "print(\"\")\n",
    "# Build LaTeX table\n",
    "header = r\"\"\"\\begin{table}[ht]\n",
    "\\centering\n",
    "\\caption{Spread over Mean (SoM) for recession duration and time between recessions.}\n",
    "\\begin{tabular}{lccccc}\n",
    "\\hline\n",
    "& Data & $\\alpha=2$ & $\\alpha=4$ & $\\alpha=6$ & $\\alpha=8$ \\\\\n",
    "\\hline\n",
    "\"\"\"\n",
    "\n",
    "row_duration = \"Duration & {:.2f} & {:.2f} & {:.2f} & {:.2f} & {:.2f} \\\\\\\\\".format(\n",
    "    SoM_data, *SoM_list)\n",
    "\n",
    "row_time = \"Time Between & {:.2f} & {:.2f} & {:.2f} & {:.2f} & {:.2f} \\\\\\\\\".format(\n",
    "    SoM_time_data, *SoM_time_list)\n",
    "\n",
    "footer = r\"\"\"\\hline\n",
    "\\end{tabular}\n",
    "\\end{table}\n",
    "\"\"\"\n",
    "\n",
    "# Print full table\n",
    "print(header + row_duration + \"\\n\" + row_time + \"\\n\" + footer)"
   ]
  },
  {
   "cell_type": "code",
   "execution_count": null,
   "metadata": {},
   "outputs": [],
   "source": [
    "df_a2 = plotter_a2.time_scale_of_the_system()\n",
    "df_a4 = plotter_a4.time_scale_of_the_system()\n",
    "df_a6 = plotter_a6.time_scale_of_the_system()\n",
    "df_a8 = plotter_a8.time_scale_of_the_system()\n",
    "values_latex, ratio_latex = plotter_a4.generate_timescale_latex_tables_rowwise([df_a2, df_a4, df_a6, df_a8], [2, 4, 6, 8])\n",
    "\n",
    "print(values_latex)\n",
    "print(ratio_latex)"
   ]
  },
  {
   "cell_type": "code",
   "execution_count": null,
   "metadata": {},
   "outputs": [],
   "source": [
    "plotter_a4.plot_capital()"
   ]
  },
  {
   "cell_type": "code",
   "execution_count": null,
   "metadata": {},
   "outputs": [],
   "source": [
    "window_size = 1\n",
    "# plotter_a2.plot_salary(window_size=window_size)\n",
    "plotter_a4.plot_salary(window_size=window_size)\n",
    "# plotter_a6.plot_salary(window_size=window_size)\n",
    "# plotter_a8.plot_salary(window_size=window_size)"
   ]
  },
  {
   "cell_type": "code",
   "execution_count": null,
   "metadata": {},
   "outputs": [],
   "source": [
    "time_shift = 0\n",
    "plotter_a2.plot_mu_bankruptcy_correlation(time_shift)\n",
    "plotter_a4.plot_mu_bankruptcy_correlation(time_shift)\n",
    "plotter_a6.plot_mu_bankruptcy_correlation(time_shift)\n",
    "plotter_a8.plot_mu_bankruptcy_correlation(time_shift)"
   ]
  },
  {
   "cell_type": "code",
   "execution_count": null,
   "metadata": {},
   "outputs": [],
   "source": [
    "plotter_a2.plot_capital()\n",
    "plotter_a4.plot_capital()\n",
    "plotter_a8.plot_capital()"
   ]
  },
  {
   "cell_type": "code",
   "execution_count": null,
   "metadata": {},
   "outputs": [],
   "source": [
    "# plotter_a2.plot_single_companies(N_plot=1)\n",
    "plotter_a4.plot_single_companies(N_plot=1)\n",
    "# plotter_a8.plot_single_companies(N_plot=1)"
   ]
  },
  {
   "cell_type": "markdown",
   "metadata": {},
   "source": [
    "#### Results\n",
    "- Economic relevance (asset return, lifespan etc)\n",
    "- Company size"
   ]
  },
  {
   "cell_type": "code",
   "execution_count": null,
   "metadata": {},
   "outputs": [],
   "source": [
    "group_name_list_salary_min = create_data_a4.generate_smin_arr_data(smin_vals=[1e-9, 1e-2, 1e-1, 2e-1], N_repeat=1, store_data=False)\n",
    "plotter_a4.plot_lifespan_multiple_smin(group_name_list_salary_min)\n",
    "# plotter_a4.compare_smin_lifespan(group_name_list_salary_min)"
   ]
  },
  {
   "cell_type": "code",
   "execution_count": null,
   "metadata": {},
   "outputs": [],
   "source": [
    "# Economic indicators\n"
   ]
  },
  {
   "cell_type": "code",
   "execution_count": null,
   "metadata": {},
   "outputs": [],
   "source": [
    "xlim_worker_log = (0.9, 3e3)\n",
    "ylim_worker_log = (5e-7, 50)\n",
    "Nbins_log = 7000  # N=10_000, T = 5000, sqrt(len) = 7071\n",
    "\n",
    "plotter_a4.plot_worker_distribution(ylim=ylim_worker_log, xlim=xlim_worker_log, Nbins=Nbins_log, w_lim_fit=(60, 160))"
   ]
  },
  {
   "cell_type": "code",
   "execution_count": null,
   "metadata": {},
   "outputs": [],
   "source": [
    "xlim_worker_log = (0.9, 3e3)\n",
    "ylim_worker_log = (8e-9, 50)\n",
    "Nbins_log = 7000  # N=10_000, T = 5000, sqrt(len) = 7071\n",
    "\n",
    "\n",
    "plotter_a2.plot_worker_distribution(ylim=ylim_worker_log, xlim=xlim_worker_log, Nbins=Nbins_log, w_lim_fit=(40, 100))\n",
    "plotter_a4.plot_worker_distribution(ylim=ylim_worker_log, xlim=xlim_worker_log, Nbins=Nbins_log, w_lim_fit=(60, 160))\n",
    "plotter_a6.plot_worker_distribution(ylim=ylim_worker_log, xlim=xlim_worker_log, Nbins=Nbins_log, w_lim_fit=(70, 240))\n",
    "plotter_a8.plot_worker_distribution(ylim=ylim_worker_log, xlim=xlim_worker_log, Nbins=Nbins_log, w_lim_fit=(70, 250))\n",
    "\n",
    "# plotter_a4.plot_worker_distribution(ylim=ylim_worker_log, xlim=xlim_worker_log, Nbins=Nbins_log, bars_or_points=\"points\")"
   ]
  },
  {
   "cell_type": "code",
   "execution_count": null,
   "metadata": {},
   "outputs": [],
   "source": [
    "# Worker KDE over time\n",
    "plotter_a4.plot_worker_KDE_over_time(bandwidth=1, N_eval_points=600, kernel=\"gaussian\", w_lim=(0, 100), percentile_cut=99)"
   ]
  },
  {
   "cell_type": "code",
   "execution_count": null,
   "metadata": {},
   "outputs": [],
   "source": [
    "plotter_a4.plot_salary_and_debt_distributions()"
   ]
  },
  {
   "cell_type": "markdown",
   "metadata": {},
   "source": [
    "### Stylized facts"
   ]
  },
  {
   "cell_type": "code",
   "execution_count": null,
   "metadata": {},
   "outputs": [],
   "source": [
    "return_gname_list = create_data_a2.generate_system_data(alpha_values=[1, 4, 1, 4], N_values=[100, 100, 1000, 1000], W_factor=20, store_data=False)\n",
    "plotter_a2.plot_multiple_return(group_name_list=return_gname_list, ylim=(5e-4, 3e1), same_bins=False)"
   ]
  },
  {
   "cell_type": "code",
   "execution_count": null,
   "metadata": {},
   "outputs": [],
   "source": [
    "plotter_a2.add_file_name_to_figure_name = False\n",
    "plotter_a2.add_parameter_text_to_plot = False\n",
    "\n",
    "plotter_a2.plot_mu_return_different_time(data_name=\"capital_individual_mean\", time_period_list=[1, 5, 25], yscale=\"log\", gauss_std=0.5)"
   ]
  },
  {
   "cell_type": "code",
   "execution_count": null,
   "metadata": {},
   "outputs": [],
   "source": [
    "plotter_a2.add_file_name_to_figure_name = False\n",
    "plotter_a2.add_parameter_text_to_plot = False\n",
    "plotter_a4.plot_autocorr(data_name=\"capital_individual_all\", max_lag=30, time_period=1, same_subplot=True)"
   ]
  },
  {
   "cell_type": "markdown",
   "metadata": {},
   "source": [
    "### Niche behaviour graphs"
   ]
  },
  {
   "cell_type": "code",
   "execution_count": null,
   "metadata": {},
   "outputs": [],
   "source": [
    "plotter_a2.plot_mutations()"
   ]
  },
  {
   "cell_type": "code",
   "execution_count": null,
   "metadata": {},
   "outputs": [],
   "source": [
    "plotter_a4.plot_bankrupt_new_salary()"
   ]
  },
  {
   "cell_type": "code",
   "execution_count": null,
   "metadata": {},
   "outputs": [],
   "source": [
    "plotter_a2.animate_w0_wnon0(skip_time_steps=5);"
   ]
  },
  {
   "cell_type": "code",
   "execution_count": null,
   "metadata": {},
   "outputs": [],
   "source": [
    "plotter_a2.plot_time_from_income_change_to_bankruptcy_distribution(show_plot=False)"
   ]
  },
  {
   "cell_type": "code",
   "execution_count": null,
   "metadata": {},
   "outputs": [],
   "source": [
    "plotter_a2.plot_survivors(show_peak_plot=False)"
   ]
  },
  {
   "cell_type": "markdown",
   "metadata": {},
   "source": [
    "### Parameter investigations"
   ]
  },
  {
   "cell_type": "code",
   "execution_count": null,
   "metadata": {},
   "outputs": [],
   "source": [
    "# -- CDF PARAMETER --\n",
    "\n",
    "store_data = False\n",
    "# Values\n",
    "mutation_magnitude = 0.1\n",
    "time_steps = 250_000  # OBS \n",
    "alpha_vals = [2, 4, 8]\n",
    "ds_vals = [0.025, 0.05, 0.1]\n",
    "smin_vals = np.array([1e-8, 1e-1, 1, 2]) * mutation_magnitude\n",
    "m_vals = [1e-5, 1e-1, 1e1, 1e5]\n",
    "total_runs = len(np.concatenate((alpha_vals, ds_vals, smin_vals , m_vals)))\n",
    "print(\"Total number of runs = \", total_runs)\n",
    "print(\"Estimated time = \", total_runs * time_steps / 620 / 60, \" minutes\")  # 620 it/s, 60 s per minute.\n",
    "# Labels\n",
    "label_list_alpha = [fr\"$\\alpha=${a}\" for a in alpha_vals]\n",
    "label_list_ds = [fr\"$\\Delta s / s = {ds}$\" for ds in ds_vals]\n",
    "label_list_smin = [r\"$s_\\text{min}=$\" + fr\"${plotter_a4.format_scientific_latex(smin*10, precision=1, include_mantissa=False)}m$\" for smin in smin_vals[:2]] + [r\"$s_\\text{min}=m$\", r\"$s_\\text{min}=2m$\"]\n",
    "label_list_m = [fr\"$m = {plotter_a4.format_scientific_latex(m, precision=1, include_mantissa=False)}$\" for m in m_vals]\n",
    "# Store data / Get group names\n",
    "gname_list_alpha = create_data_a4.generate_alpha_arr_data(alpha_vals, N_repeat=1, store_data=store_data)\n",
    "gname_list_ds = create_data_a4.generate_ds_arr_data(ds_vals, N_repeat=1, store_data=store_data)\n",
    "gname_list_smin = create_data_a4.generate_smin_arr_data(smin_vals, N_repeat=1, store_data=store_data)\n",
    "gname_list_m = create_data_a4.generate_m_arr_data(m_vals, N_repeat=1, store_data=store_data)\n",
    "# Run the plotter\n",
    "plotter_a4.plot_CDF_parameter(gname_list_alpha, gname_list_smin, gname_list_m, gname_list_ds, \n",
    "                           label_list_alpha, label_list_smin, label_list_m, label_list_ds,\n",
    "                           xlim=(1, 61e3), xscale=\"log\")"
   ]
  },
  {
   "cell_type": "code",
   "execution_count": null,
   "metadata": {},
   "outputs": [],
   "source": [
    "# Create all datasets and store them. Does not store group names\n",
    "# create_data_a2.repeated_m_runs(N_repeat=2, m_values=np.geomspace(1e-1, 1e1, 3))\n",
    "create_data_a2.multiple_s_min_runs(s_min_list=np.geomspace(1e-8, 5e-2, 8))"
   ]
  },
  {
   "cell_type": "code",
   "execution_count": null,
   "metadata": {},
   "outputs": [],
   "source": [
    "# Big data set: (check filename otherwise)\n",
    "# steps: 3100, 6000\n",
    "# seed: 999\n",
    "# list_of_group_name_ds_arr = create_data_a2.generate_ds_tensor_data(ds_vals=np.linspace(0.005, 0.05, 9), N_repeat=10, \n",
    "#                                                     alpha_vals=[1, 2, 4], N_vals=[50, 50, 500, 500], W_vals=[50, 250, 500, 2500],\n",
    "#                                                     store_data=False)"
   ]
  },
  {
   "cell_type": "code",
   "execution_count": null,
   "metadata": {},
   "outputs": [],
   "source": [
    "group_name_ds_arr = create_data_a2.generate_ds_arr_data(ds_vals=np.linspace(0.005, 0.08, 10), N_repeat=10, store_data=False)\n",
    "plotter_a2.plot_var_frequency(group_name_ds_arr, var_name=\"ds\", data_name=\"salary\", show_fit_results=True)"
   ]
  },
  {
   "cell_type": "code",
   "execution_count": null,
   "metadata": {},
   "outputs": [],
   "source": [
    "# -- TIME SCALE, ALPHA, N, W --\n",
    "\n",
    "KDE_div_gname_list = create_data_a4.generate_system_data(alpha_values=[2, 4, 2, 4], N_values=[100, 100, 1000, 1000], \n",
    "                                                      W_factor=20, store_data=True)\n",
    "\n",
    "plotter_a4.wage_density_diversity_increase_decrease(KDE_div_gname_list, bandwidth_s=0.005, s_lim=(0.0, 0.25), eval_points=300, kernel=\"gaussian\", window_size=5)"
   ]
  },
  {
   "cell_type": "markdown",
   "metadata": {},
   "source": [
    "Lav time scale til ovenstående graf:\n",
    "\n",
    "list_of_group_name_ds_arr = create_data_a2.generate_ds_tensor_data(ds_vals=np.linspace(0.005, 0.05, 8), N_repeat=10, \n",
    "                                                     alpha_vals=[1, 4], N_vals=[100, 1000], W_vals=[2000, 20_000],\n",
    "                                                     time_steps=5000+warmup_steps, store_data=False)"
   ]
  },
  {
   "cell_type": "code",
   "execution_count": null,
   "metadata": {},
   "outputs": [],
   "source": [
    "# -- Exponent investigation (alpha) --\n",
    "group_name_list_alpha = create_data_a4.generate_alpha_arr_data(alpha_vals=[2, 4, 6, 8], N_repeat=1, store_data=True)\n",
    "\n",
    "plotter_a4.plot_running_KDE_multiple_s_min(group_name_list_alpha, bandwidth_s=0.01, s_lim=(0, 0.35), eval_points=250, kernel=\"gaussian\", show_mean=False,)"
   ]
  },
  {
   "cell_type": "code",
   "execution_count": null,
   "metadata": {},
   "outputs": [],
   "source": [
    "create_data_a2.ds = 0.05\n",
    "KDE_div_gname_list = create_data_a2.generate_system_data(alpha_values=[1, 4, 1, 4], N_values=[100, 100, 1000, 1000], \n",
    "                                                      W_factor=20, store_data=False)\n",
    "\n",
    "plotter_a2.add_parameter_text_to_plot = False\n",
    "plotter_a2.add_file_name_to_figure_name = False\n",
    "plotter_a2.plot_power_spectrum(KDE_div_gname_list)"
   ]
  },
  {
   "cell_type": "code",
   "execution_count": null,
   "metadata": {},
   "outputs": [],
   "source": [
    "# -- ds investigation --\n",
    "# m_labels = [fr\"${plotter_a4.format_scientific_latex(m, include_mantissa=False)}$\" for m in m_vals]\n",
    "\n",
    "ds_vals=[0.025, 0.05, 0.1]\n",
    "ds_labels = [fr\"$\\Delta s / s=${ds}\" for ds in ds_vals]\n",
    "\n",
    "group_name_ds_arr = create_data_a4.generate_ds_arr_data(ds_vals=ds_vals, N_repeat=1, store_data=False)\n",
    "plotter_a4.plot_lifespan_multiple_smin(group_name_ds_arr, labels=ds_labels, xlim=(0, 10_000))"
   ]
  },
  {
   "cell_type": "code",
   "execution_count": null,
   "metadata": {},
   "outputs": [],
   "source": [
    "smin_factor = [1e-8, 1e-6, 1e-4, 1e-2, 1e-1, 1, 2]\n",
    "m_vals = [mutation_magnitude] * len(smin_factor)\n",
    "gname_smin_arr = create_data_a4.generate_m_arr_data(m_vals=m_vals, N_repeat=2, linear_smin=smin_factor, store_data=False)\n",
    "\n",
    "plotter_a4.plot_smin_m_ratio(gname_smin_arr, smooth_size=10, time_points_to_show=500)"
   ]
  },
  {
   "cell_type": "code",
   "execution_count": null,
   "metadata": {},
   "outputs": [],
   "source": [
    "# -- Mutation size investigation -- \n",
    "m_vals = [1e-5, 1e-3, 1e-1, 1e1, 1e3, 1e5]\n",
    "m_labels = [fr\"${plotter_a4.format_scientific_latex(m, include_mantissa=False)}$\" for m in m_vals]\n",
    "\n",
    "\n",
    "# group_name_list_mutation_arr = create_data_a4.generate_m_arr_data(m_vals, N_repeat=2, linear_smin=False, store_data=False)\n",
    "group_name_list_mutation_arr_linear_smin = create_data_a4.generate_m_arr_data(m_vals, N_repeat=15, linear_smin=True, store_data=False)\n",
    "\n",
    "plotter_a4.plot_min_max_vs_m(group_name_list_mutation_arr_linear_smin, data_name=\"mu\", smooth_size=10, time_points_to_show=1000)\n",
    "plotter_a4.plot_lifespan_multiple_smin(group_name_list_mutation_arr_linear_smin[:, 0], labels=m_labels, xlim=(-1, 400))"
   ]
  },
  {
   "cell_type": "code",
   "execution_count": null,
   "metadata": {},
   "outputs": [],
   "source": [
    "group_name_ds_arr.flatten()"
   ]
  },
  {
   "cell_type": "code",
   "execution_count": null,
   "metadata": {},
   "outputs": [],
   "source": [
    "# -- smin -- \n",
    "group_name_list_salary_min = create_data_a4.generate_smin_arr_data(smin_vals=[1e-9, 1e-2, 1e-1, 2e-1], N_repeat=1, store_data=False)\n",
    "\n",
    "\n",
    "# plotter_a2.plot_multiple_s_min(group_name_list_salary_min)\n",
    "plotter_a4.plot_running_KDE_multiple_s_min(group_name_list_salary_min, bandwidth_s=0.01, s_lim=(0, 0.35), eval_points=250, kernel=\"gaussian\", show_mean=False,)"
   ]
  },
  {
   "cell_type": "code",
   "execution_count": null,
   "metadata": {},
   "outputs": [],
   "source": [
    "# -- N and W investigation --\n",
    "\n",
    "# Skal køres for 250_000 skridt\n",
    "store_data = False\n",
    "N_values = [100, 250, 1000, 2000]\n",
    "ratio_values = [2, 5, 25, 50]\n",
    "\n",
    "\n",
    "KDE_par = {\"time_steps_to_include\": 600, \"bandwidth\": 0.005, \"data_lim\": (0, 0.35), \"eval_points\": 250}\n",
    "\n",
    "gname_arr = create_data_a4.generate_N_W_simple(N_values, ratio_values, store_data)\n",
    "plotter_a4.plot_N_W(gname_arr, KDE_par)"
   ]
  },
  {
   "cell_type": "code",
   "execution_count": null,
   "metadata": {},
   "outputs": [],
   "source": [
    "N_values = np.array([1000])\n",
    "W_values = 1 * N_values\n",
    "\n",
    "group_name_list_N_var_W_const, group_name_list_N_W_ratio = create_data_a4.generate_N_W_arr_data(N_values=N_values, \n",
    "                                                                                             W_values=W_values,\n",
    "                                                                                             ratio_vals=[5, 20,], \n",
    "                                                                                             number_of_repeats=1, store_data=True)\n",
    "\n",
    "# Mean plots\n",
    "# plotter_a2.plot_N_var_W_const(group_name_list_N_var_W_const)\n",
    "plotter_a4.plot_N_W_ratio(group_name_list_N_W_ratio, show_bankruptcy=True)\n",
    "\n",
    "# KDE\n",
    "plotter_a4.plot_running_KDE_NW(group_name_list_N_W_ratio, bandwidth=0.005, eval_points=200, lim=(0, 0.15), kernel=\"epanechnikov\", show_mean=False)"
   ]
  }
 ],
 "metadata": {
  "kernelspec": {
   "display_name": ".venv",
   "language": "python",
   "name": "python3"
  },
  "language_info": {
   "codemirror_mode": {
    "name": "ipython",
    "version": 3
   },
   "file_extension": ".py",
   "mimetype": "text/x-python",
   "name": "python",
   "nbconvert_exporter": "python",
   "pygments_lexer": "ipython3",
   "version": "3.12.6"
  }
 },
 "nbformat": 4,
 "nbformat_minor": 2
}
